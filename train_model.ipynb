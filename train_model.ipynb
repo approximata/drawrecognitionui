{
 "cells": [
  {
   "cell_type": "markdown",
   "metadata": {},
   "source": [
    "#### Importing python packages"
   ]
  },
  {
   "cell_type": "code",
   "execution_count": 1,
   "metadata": {},
   "outputs": [],
   "source": [
    "import matplotlib.pyplot as plt\n",
    "import numpy as np\n",
    "import tensorflow as tf\n",
    "import tensorflowjs as tfjs\n",
    "\n",
    "tf.enable_eager_execution()"
   ]
  },
  {
   "cell_type": "markdown",
   "metadata": {},
   "source": [
    "#### Loading the MNIST database"
   ]
  },
  {
   "cell_type": "code",
   "execution_count": 2,
   "metadata": {},
   "outputs": [],
   "source": [
    "mnist = tf.keras.datasets.mnist\n",
    "\n",
    "(x_train, y_train), (x_test, y_test) = mnist.load_data()\n",
    "x_train, x_test = x_train / 255.0, x_test / 255.0"
   ]
  },
  {
   "cell_type": "markdown",
   "metadata": {},
   "source": [
    "## Defining the model"
   ]
  },
  {
   "cell_type": "code",
   "execution_count": 3,
   "metadata": {},
   "outputs": [],
   "source": [
    "HIDDEN_NEURONS = 32\n",
    "DROPOUT_RATE = 0.2"
   ]
  },
  {
   "cell_type": "code",
   "execution_count": 4,
   "metadata": {},
   "outputs": [],
   "source": [
    "model = tf.keras.models.Sequential([tf.keras.layers.Flatten(input_shape=(28, 28)),\n",
    "                                    tf.keras.layers.Dense(HIDDEN_NEURONS, activation='relu'),\n",
    "                                    tf.keras.layers.Dropout(DROPOUT_RATE),\n",
    "                                    tf.keras.layers.Dense(10, activation='softmax')])"
   ]
  },
  {
   "cell_type": "code",
   "execution_count": 5,
   "metadata": {},
   "outputs": [
    {
     "name": "stdout",
     "output_type": "stream",
     "text": [
      "Model: \"sequential\"\n",
      "_________________________________________________________________\n",
      "Layer (type)                 Output Shape              Param #   \n",
      "=================================================================\n",
      "flatten (Flatten)            (None, 784)               0         \n",
      "_________________________________________________________________\n",
      "dense (Dense)                (None, 32)                25120     \n",
      "_________________________________________________________________\n",
      "dropout (Dropout)            (None, 32)                0         \n",
      "_________________________________________________________________\n",
      "dense_1 (Dense)              (None, 10)                330       \n",
      "=================================================================\n",
      "Total params: 25,450\n",
      "Trainable params: 25,450\n",
      "Non-trainable params: 0\n",
      "_________________________________________________________________\n"
     ]
    }
   ],
   "source": [
    "model.summary()"
   ]
  },
  {
   "cell_type": "markdown",
   "metadata": {},
   "source": [
    "## Defining training"
   ]
  },
  {
   "cell_type": "code",
   "execution_count": 6,
   "metadata": {},
   "outputs": [],
   "source": [
    "LEARNING_RATE = 0.0001"
   ]
  },
  {
   "cell_type": "code",
   "execution_count": 7,
   "metadata": {},
   "outputs": [],
   "source": [
    "model.compile(optimizer=tf.keras.optimizers.Adam(learning_rate=LEARNING_RATE),\n",
    "              loss='sparse_categorical_crossentropy',\n",
    "              metrics=['accuracy'])"
   ]
  },
  {
   "cell_type": "markdown",
   "metadata": {},
   "source": [
    "## Training the model"
   ]
  },
  {
   "cell_type": "code",
   "execution_count": 8,
   "metadata": {},
   "outputs": [],
   "source": [
    "VALIDATION_SPLIT = 0.2\n",
    "EPOCHS = 10\n",
    "BATCH_SIZE = 32"
   ]
  },
  {
   "cell_type": "code",
   "execution_count": 9,
   "metadata": {},
   "outputs": [
    {
     "name": "stdout",
     "output_type": "stream",
     "text": [
      "Train on 48000 samples, validate on 12000 samples\n",
      "Epoch 1/10\n",
      "48000/48000 [==============================] - 3s 62us/sample - loss: 1.1628 - acc: 0.6619 - val_loss: 0.5482 - val_acc: 0.8715\n",
      "Epoch 2/10\n",
      "48000/48000 [==============================] - 1s 30us/sample - loss: 0.5939 - acc: 0.8305 - val_loss: 0.3901 - val_acc: 0.9004\n",
      "Epoch 3/10\n",
      "48000/48000 [==============================] - 1s 30us/sample - loss: 0.4853 - acc: 0.8609 - val_loss: 0.3319 - val_acc: 0.9132\n",
      "Epoch 4/10\n",
      "48000/48000 [==============================] - 2s 32us/sample - loss: 0.4273 - acc: 0.8769 - val_loss: 0.2970 - val_acc: 0.9206\n",
      "Epoch 5/10\n",
      "48000/48000 [==============================] - 1s 31us/sample - loss: 0.3930 - acc: 0.8877 - val_loss: 0.2759 - val_acc: 0.9249\n",
      "Epoch 6/10\n",
      "48000/48000 [==============================] - 2s 31us/sample - loss: 0.3673 - acc: 0.8931 - val_loss: 0.2603 - val_acc: 0.9288\n",
      "Epoch 7/10\n",
      "48000/48000 [==============================] - 1s 31us/sample - loss: 0.3471 - acc: 0.8997 - val_loss: 0.2467 - val_acc: 0.9314\n",
      "Epoch 8/10\n",
      "48000/48000 [==============================] - 1s 30us/sample - loss: 0.3300 - acc: 0.9036 - val_loss: 0.2371 - val_acc: 0.9330\n",
      "Epoch 9/10\n",
      "48000/48000 [==============================] - 1s 30us/sample - loss: 0.3156 - acc: 0.9100 - val_loss: 0.2282 - val_acc: 0.9353\n",
      "Epoch 10/10\n",
      "48000/48000 [==============================] - 1s 30us/sample - loss: 0.3046 - acc: 0.9101 - val_loss: 0.2201 - val_acc: 0.9372\n"
     ]
    }
   ],
   "source": [
    "history = model.fit(x_train,\n",
    "                    y_train,\n",
    "                    validation_split=VALIDATION_SPLIT,\n",
    "                    epochs=EPOCHS,\n",
    "                    batch_size=BATCH_SIZE)"
   ]
  },
  {
   "cell_type": "markdown",
   "metadata": {},
   "source": [
    "## Plotting training curves"
   ]
  },
  {
   "cell_type": "code",
   "execution_count": 10,
   "metadata": {},
   "outputs": [],
   "source": [
    "def plot_learning_curves(history: tf.keras.callbacks.History):\n",
    "    history = history.history\n",
    "    \n",
    "    fig, (ax1, ax2) = plt.subplots(2, 1, figsize=(10, 10))\n",
    "\n",
    "    ax1.title.set_text('Loss curves')\n",
    "    ax1.plot(range(1, EPOCHS+1),\n",
    "             history['loss'],\n",
    "             label='loss')\n",
    "    ax1.plot(range(1, EPOCHS+1),\n",
    "             history['val_loss'],\n",
    "             label='val_loss')\n",
    "    ax1.legend()\n",
    "\n",
    "    ax2.title.set_text('Accurracy curves')\n",
    "    ax2.plot(range(1, EPOCHS+1),\n",
    "             history['acc'],\n",
    "             label='acc')\n",
    "    ax2.plot(range(1, EPOCHS+1),\n",
    "             history['val_acc'],\n",
    "             label='val_acc')\n",
    "    ax2.legend()"
   ]
  },
  {
   "cell_type": "code",
   "execution_count": 11,
   "metadata": {},
   "outputs": [
    {
     "data": {
      "image/png": "[encoded data removed]",
      "text/plain": [
       "<Figure size 720x720 with 2 Axes>"
      ]
     },
     "metadata": {
      "needs_background": "light"
     },
     "output_type": "display_data"
    }
   ],
   "source": [
    "plot_learning_curves(history)"
   ]
  },
  {
   "cell_type": "markdown",
   "metadata": {},
   "source": [
    "## Testing the model"
   ]
  },
  {
   "cell_type": "markdown",
   "metadata": {},
   "source": [
    "#### Performance on training set (includes validation set)"
   ]
  },
  {
   "cell_type": "code",
   "execution_count": 12,
   "metadata": {},
   "outputs": [
    {
     "name": "stdout",
     "output_type": "stream",
     "text": [
      "60000/1 - 1s - loss: 0.1720 - acc: 0.9369\n"
     ]
    },
    {
     "data": {
      "text/plain": [
       "[0.22275777719219525, 0.93691665]"
      ]
     },
     "execution_count": 12,
     "metadata": {},
     "output_type": "execute_result"
    }
   ],
   "source": [
    "model.evaluate(x_train, y_train, verbose=2)"
   ]
  },
  {
   "cell_type": "markdown",
   "metadata": {},
   "source": [
    "#### Performance on hold-out test set (should be similar to training)"
   ]
  },
  {
   "cell_type": "code",
   "execution_count": 13,
   "metadata": {},
   "outputs": [
    {
     "name": "stdout",
     "output_type": "stream",
     "text": [
      "10000/1 - 0s - loss: 0.1673 - acc: 0.9354\n"
     ]
    },
    {
     "data": {
      "text/plain": [
       "[0.22440857456326485, 0.9354]"
      ]
     },
     "execution_count": 13,
     "metadata": {},
     "output_type": "execute_result"
    }
   ],
   "source": [
    "model.evaluate(x_test, y_test, verbose=2)"
   ]
  },
  {
   "cell_type": "markdown",
   "metadata": {},
   "source": [
    "## Saving the model for JS\n",
    "#### Overrides model in the repository"
   ]
  },
  {
   "cell_type": "code",
   "execution_count": 14,
   "metadata": {},
   "outputs": [],
   "source": [
    "tfjs.converters.save_keras_model(model, './model')"
   ]
  }
 ],
 "metadata": {
  "kernelspec": {
   "display_name": "Python 3",
   "language": "python",
   "name": "python3"
  },
  "language_info": {
   "codemirror_mode": {
    "name": "ipython",
    "version": 3
   },
   "file_extension": ".py",
   "mimetype": "text/x-python",
   "name": "python",
   "nbconvert_exporter": "python",
   "pygments_lexer": "ipython3",
   "version": "3.7.5"
  }
 },
 "nbformat": 4,
 "nbformat_minor": 4
}
